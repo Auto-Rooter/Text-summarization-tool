{
 "cells": [
  {
   "cell_type": "code",
   "execution_count": 1,
   "metadata": {},
   "outputs": [
    {
     "data": {
      "text/plain": [
       "'\\n- Get Similarity between sentinces, How the sentences is simler to each other, By calculating the Scoore for each sentence.\\n\\n'"
      ]
     },
     "execution_count": 1,
     "metadata": {},
     "output_type": "execute_result"
    }
   ],
   "source": [
    "# Text Summarization - Cosine Similarity\n",
    "'''\n",
    "- Get Similarity between sentinces, How the sentences is simler to each other, By calculating the Scoore for each sentence.\n",
    "\n",
    "'''"
   ]
  },
  {
   "cell_type": "code",
   "execution_count": 2,
   "metadata": {},
   "outputs": [],
   "source": [
    "import re # Regex lib\n",
    "import nltk # Natural Language Processing lib\n",
    "import string \n",
    "import numpy as np # to get access to Vectors and matrix\n",
    "import networkx as nx # generate a graph structure\n",
    "from nltk.cluster.util import cosine_distance # function used to calculate the similarity of sentences"
   ]
  },
  {
   "cell_type": "code",
   "execution_count": 3,
   "metadata": {},
   "outputs": [
    {
     "name": "stderr",
     "output_type": "stream",
     "text": [
      "[nltk_data] Downloading package punkt to\n",
      "[nltk_data]     C:\\Users\\twitter\\AppData\\Roaming\\nltk_data...\n",
      "[nltk_data]   Package punkt is already up-to-date!\n",
      "[nltk_data] Downloading package stopwords to\n",
      "[nltk_data]     C:\\Users\\twitter\\AppData\\Roaming\\nltk_data...\n",
      "[nltk_data]   Package stopwords is already up-to-date!\n"
     ]
    },
    {
     "data": {
      "text/plain": [
       "True"
      ]
     },
     "execution_count": 3,
     "metadata": {},
     "output_type": "execute_result"
    }
   ],
   "source": [
    "nltk.download('punkt') # to have access to sentences Tokenization\n",
    "nltk.download('stopwords') # get access to Stopwords"
   ]
  },
  {
   "cell_type": "code",
   "execution_count": 4,
   "metadata": {},
   "outputs": [
    {
     "name": "stdout",
     "output_type": "stream",
     "text": [
      "['i', 'me', 'my', 'myself', 'we', 'our', 'ours', 'ourselves', 'you', \"you're\", \"you've\", \"you'll\", \"you'd\", 'your', 'yours', 'yourself', 'yourselves', 'he', 'him', 'his', 'himself', 'she', \"she's\", 'her', 'hers', 'herself', 'it', \"it's\", 'its', 'itself', 'they', 'them', 'their', 'theirs', 'themselves', 'what', 'which', 'who', 'whom', 'this', 'that', \"that'll\", 'these', 'those', 'am', 'is', 'are', 'was', 'were', 'be', 'been', 'being', 'have', 'has', 'had', 'having', 'do', 'does', 'did', 'doing', 'a', 'an', 'the', 'and', 'but', 'if', 'or', 'because', 'as', 'until', 'while', 'of', 'at', 'by', 'for', 'with', 'about', 'against', 'between', 'into', 'through', 'during', 'before', 'after', 'above', 'below', 'to', 'from', 'up', 'down', 'in', 'out', 'on', 'off', 'over', 'under', 'again', 'further', 'then', 'once', 'here', 'there', 'when', 'where', 'why', 'how', 'all', 'any', 'both', 'each', 'few', 'more', 'most', 'other', 'some', 'such', 'no', 'nor', 'not', 'only', 'own', 'same', 'so', 'than', 'too', 'very', 's', 't', 'can', 'will', 'just', 'don', \"don't\", 'should', \"should've\", 'now', 'd', 'll', 'm', 'o', 're', 've', 'y', 'ain', 'aren', \"aren't\", 'couldn', \"couldn't\", 'didn', \"didn't\", 'doesn', \"doesn't\", 'hadn', \"hadn't\", 'hasn', \"hasn't\", 'haven', \"haven't\", 'isn', \"isn't\", 'ma', 'mightn', \"mightn't\", 'mustn', \"mustn't\", 'needn', \"needn't\", 'shan', \"shan't\", 'shouldn', \"shouldn't\", 'wasn', \"wasn't\", 'weren', \"weren't\", 'won', \"won't\", 'wouldn', \"wouldn't\"]\n"
     ]
    }
   ],
   "source": [
    "stopwords = nltk.corpus.stopwords.words('english') # Words to be removed from each sentence\n",
    "print(stopwords) "
   ]
  },
  {
   "cell_type": "code",
   "execution_count": 5,
   "metadata": {},
   "outputs": [],
   "source": [
    "def preprocess_sentences(text):\n",
    "    processed_text = text.lower()\n",
    "    tokens = []\n",
    "    for token in nltk.word_tokenize(processed_text):\n",
    "        tokens.append(token)\n",
    "    tokens = [word for word in tokens if word not in stopwords and word not in string.punctuation]\n",
    "    processed_text = ' '.join(element for element in tokens)\n",
    "    return processed_text"
   ]
  },
  {
   "cell_type": "code",
   "execution_count": 6,
   "metadata": {},
   "outputs": [
    {
     "data": {
      "text/plain": [
       "'Samurai were the hereditary military nobility and officer caste of medieval and early-modern Japan from the late 12th century to their abolition in 1876. They were the well-paid retainers of the daimyo (the great feudal landholders). They had high prestige and special privileges such as wearing two swords. They cultivated the bushido codes of martial virtues, indifference to pain, and unflinching loyalty, engaging in many local battles. Though they had predecessors in earlier military and administrative officers, the samurai truly emerged during the Kamakura shogunate, ruling from c.1185–1333. They became the ruling political class, with significant power but also significant responsibility. During the 13th century, the samurai proved themselves as adept warriors against the invading Mongols. During the peaceful Edo era (1603 to 1868), they became the stewards and chamberlains of the daimyo estates, gaining managerial experience and education. In the 1870s samurai families comprised 5% of the population. As modern militaries emerged in the 19th century, the Samurai were rendered increasingly obsolete as very expensive to maintain compared to the average conscript soldier. The Meiji Restoration ended their feudal roles, and they moved into professional and entrepreneurial roles. Their memory and weaponry remain prominent in Japanese popular culture.'"
      ]
     },
     "execution_count": 6,
     "metadata": {},
     "output_type": "execute_result"
    }
   ],
   "source": [
    "# The orginal Paragraph from Wikipedia: https://en.wikipedia.org/wiki/Samurai\n",
    "original_text = \"\"\"Samurai were the hereditary military nobility and officer caste of medieval and \n",
    "                    early-modern Japan from the late 12th century to their abolition in 1876. \n",
    "                    They were the well-paid retainers of the daimyo (the great feudal landholders). \n",
    "                    They had high prestige and special privileges such as wearing two swords. \n",
    "                    They cultivated the bushido codes of martial virtues, indifference to pain,\n",
    "                     and unflinching loyalty, engaging in many local battles. Though they had predecessors\n",
    "                      in earlier military and administrative officers, the samurai truly emerged during the\n",
    "                       Kamakura shogunate, ruling from c.1185–1333. They became the ruling political class,\n",
    "                        with significant power but also significant responsibility. During the 13th century,\n",
    "                         the samurai proved themselves as adept warriors against the invading Mongols.\n",
    "                          During the peaceful Edo era (1603 to 1868), they became the stewards and chamberlains\n",
    "                           of the daimyo estates, gaining managerial experience and education.\n",
    "                            In the 1870s samurai families comprised 5% of the population. \n",
    "                            As modern militaries emerged in the 19th century, \n",
    "                            the Samurai were rendered increasingly obsolete as very expensive to maintain\n",
    "                             compared to the average conscript soldier. The Meiji Restoration ended their\n",
    "                              feudal roles, and they moved into professional and entrepreneurial roles.\n",
    "                               Their memory and weaponry remain prominent in Japanese popular culture.\"\"\"\n",
    "\n",
    "original_text = re.sub(r'\\s+', ' ', original_text)\n",
    "original_text # final text to test the algorithm"
   ]
  },
  {
   "cell_type": "code",
   "execution_count": 7,
   "metadata": {},
   "outputs": [
    {
     "data": {
      "text/plain": [
       "['Samurai were the hereditary military nobility and officer caste of medieval and early-modern Japan from the late 12th century to their abolition in 1876.',\n",
       " 'They were the well-paid retainers of the daimyo (the great feudal landholders).',\n",
       " 'They had high prestige and special privileges such as wearing two swords.',\n",
       " 'They cultivated the bushido codes of martial virtues, indifference to pain, and unflinching loyalty, engaging in many local battles.',\n",
       " 'Though they had predecessors in earlier military and administrative officers, the samurai truly emerged during the Kamakura shogunate, ruling from c.1185–1333.',\n",
       " 'They became the ruling political class, with significant power but also significant responsibility.',\n",
       " 'During the 13th century, the samurai proved themselves as adept warriors against the invading Mongols.',\n",
       " 'During the peaceful Edo era (1603 to 1868), they became the stewards and chamberlains of the daimyo estates, gaining managerial experience and education.',\n",
       " 'In the 1870s samurai families comprised 5% of the population.',\n",
       " 'As modern militaries emerged in the 19th century, the Samurai were rendered increasingly obsolete as very expensive to maintain compared to the average conscript soldier.',\n",
       " 'The Meiji Restoration ended their feudal roles, and they moved into professional and entrepreneurial roles.',\n",
       " 'Their memory and weaponry remain prominent in Japanese popular culture.']"
      ]
     },
     "execution_count": 7,
     "metadata": {},
     "output_type": "execute_result"
    }
   ],
   "source": [
    "\"\"\"\n",
    "- Calculate how similar are the sentences to each others\n",
    "\"\"\"\n",
    "\n",
    "oreginal_sentences = [sentence for sentence in nltk.sent_tokenize(original_text)]\n",
    "oreginal_sentences # view sentence by sentence"
   ]
  },
  {
   "cell_type": "code",
   "execution_count": 8,
   "metadata": {},
   "outputs": [
    {
     "data": {
      "text/plain": [
       "['samurai hereditary military nobility officer caste medieval early-modern japan late 12th century abolition 1876',\n",
       " 'well-paid retainers daimyo great feudal landholders',\n",
       " 'high prestige special privileges wearing two swords',\n",
       " 'cultivated bushido codes martial virtues indifference pain unflinching loyalty engaging many local battles',\n",
       " 'though predecessors earlier military administrative officers samurai truly emerged kamakura shogunate ruling c.1185–1333',\n",
       " 'became ruling political class significant power also significant responsibility',\n",
       " '13th century samurai proved adept warriors invading mongols',\n",
       " 'peaceful edo era 1603 1868 became stewards chamberlains daimyo estates gaining managerial experience education',\n",
       " '1870s samurai families comprised 5 population',\n",
       " 'modern militaries emerged 19th century samurai rendered increasingly obsolete expensive maintain compared average conscript soldier',\n",
       " 'meiji restoration ended feudal roles moved professional entrepreneurial roles',\n",
       " 'memory weaponry remain prominent japanese popular culture']"
      ]
     },
     "execution_count": 8,
     "metadata": {},
     "output_type": "execute_result"
    }
   ],
   "source": [
    "formatted_sentences = [preprocess_sentences(oreginal_sentence) for oreginal_sentence in oreginal_sentences]\n",
    "formatted_sentences"
   ]
  },
  {
   "cell_type": "code",
   "execution_count": 9,
   "metadata": {},
   "outputs": [],
   "source": [
    "def calculate_sentence_similarity(sentence1, sentence2):\n",
    "    words1 = [word for word in nltk.word_tokenize(sentence1)]\n",
    "    words2 = [word for word in nltk.word_tokenize(sentence2)]\n",
    "    #print(words2)\n",
    "    # calculate_sentence_similarity(formatted_sentences[0], formatted_sentences[1])\n",
    "    # get uniqes words insted of a repeated words\n",
    "\n",
    "    all_words = list(set(words1 + words2))\n",
    "\n",
    "    #print(all_words)\n",
    "\n",
    "    # get a zeros vector / Needed for Mathematical calculation\n",
    "    #                                   also we need to convert the words to a mathematical forms so we can apply the \n",
    "    #                                   equation.\n",
    "    vector1 = [0] * len(all_words) \n",
    "    vector2 = [0] * len(all_words)\n",
    "\n",
    "     # to convert text to number we will use the \"Bag of words\" techniqe\n",
    "    for word in words1:\n",
    "        #print(word)\n",
    "        vector1[all_words.index(word)] += 1\n",
    "\n",
    "    for word in words2:\n",
    "        vector2[all_words.index(word)] += 1\n",
    "\n",
    "    #print(vector2) \n",
    "    return 1 - cosine_distance(vector1, vector2)   # because its always return the abs value   "
   ]
  },
  {
   "cell_type": "code",
   "execution_count": 10,
   "metadata": {},
   "outputs": [
    {
     "data": {
      "text/plain": [
       "0.0"
      ]
     },
     "execution_count": 10,
     "metadata": {},
     "output_type": "execute_result"
    }
   ],
   "source": [
    "calculate_sentence_similarity(formatted_sentences[0], formatted_sentences[1])\n",
    "# 0.0"
   ]
  },
  {
   "cell_type": "code",
   "execution_count": 11,
   "metadata": {},
   "outputs": [],
   "source": [
    "# Function to create the similarity matrix\n",
    "# The Higher the value, the greater the similarity between the sentences\n",
    "# The more words in common, the grater the similarity\n",
    "\n",
    "def calculate_similarity_matrix(sentences):\n",
    "    # if we have 8 sentences then we should create 8X8 matrix\n",
    "    similarity_matrix = np.zeros((len(sentences), len(sentences)))\n",
    "    #print(similarity_matrix)\n",
    "    for i in range(len(sentences)):\n",
    "        for j in range(len(sentences)):\n",
    "            if i == j:\n",
    "                continue\n",
    "            similarity_matrix[i][j] = calculate_sentence_similarity(sentences[i], sentences[j])\n",
    "    return similarity_matrix\n"
   ]
  },
  {
   "cell_type": "code",
   "execution_count": 12,
   "metadata": {},
   "outputs": [
    {
     "data": {
      "text/plain": [
       "array([[0.        , 0.        , 0.        , 0.        , 0.14824986,\n",
       "        0.        , 0.18898224, 0.        , 0.10910895, 0.13801311,\n",
       "        0.        , 0.        ],\n",
       "       [0.        , 0.        , 0.        , 0.        , 0.        ,\n",
       "        0.        , 0.        , 0.10910895, 0.        , 0.        ,\n",
       "        0.12309149, 0.        ],\n",
       "       [0.        , 0.        , 0.        , 0.        , 0.        ,\n",
       "        0.        , 0.        , 0.        , 0.        , 0.        ,\n",
       "        0.        , 0.        ],\n",
       "       [0.        , 0.        , 0.        , 0.        , 0.        ,\n",
       "        0.        , 0.        , 0.        , 0.        , 0.        ,\n",
       "        0.        , 0.        ],\n",
       "       [0.14824986, 0.        , 0.        , 0.        , 0.        ,\n",
       "        0.0836242 , 0.09805807, 0.        , 0.1132277 , 0.14322297,\n",
       "        0.        , 0.        ],\n",
       "       [0.        , 0.        , 0.        , 0.        , 0.0836242 ,\n",
       "        0.        , 0.        , 0.0805823 , 0.        , 0.        ,\n",
       "        0.        , 0.        ],\n",
       "       [0.18898224, 0.        , 0.        , 0.        , 0.09805807,\n",
       "        0.        , 0.        , 0.        , 0.14433757, 0.18257419,\n",
       "        0.        , 0.        ],\n",
       "       [0.        , 0.10910895, 0.        , 0.        , 0.        ,\n",
       "        0.0805823 , 0.        , 0.        , 0.        , 0.        ,\n",
       "        0.        , 0.        ],\n",
       "       [0.10910895, 0.        , 0.        , 0.        , 0.1132277 ,\n",
       "        0.        , 0.14433757, 0.        , 0.        , 0.10540926,\n",
       "        0.        , 0.        ],\n",
       "       [0.13801311, 0.        , 0.        , 0.        , 0.14322297,\n",
       "        0.        , 0.18257419, 0.        , 0.10540926, 0.        ,\n",
       "        0.        , 0.        ],\n",
       "       [0.        , 0.12309149, 0.        , 0.        , 0.        ,\n",
       "        0.        , 0.        , 0.        , 0.        , 0.        ,\n",
       "        0.        , 0.        ],\n",
       "       [0.        , 0.        , 0.        , 0.        , 0.        ,\n",
       "        0.        , 0.        , 0.        , 0.        , 0.        ,\n",
       "        0.        , 0.        ]])"
      ]
     },
     "execution_count": 12,
     "metadata": {},
     "output_type": "execute_result"
    }
   ],
   "source": [
    "calculate_similarity_matrix(formatted_sentences)\n",
    "# Each row is a sentence, each cell represent the semelarity between the current sentence and the next sentence\n",
    "#  "
   ]
  },
  {
   "cell_type": "code",
   "execution_count": 13,
   "metadata": {},
   "outputs": [],
   "source": [
    "# Function to summarize the texts\n",
    "\n",
    "def summrize(text, number_of_sentences):\n",
    "    original_sentences = [sentence for sentence in nltk.sent_tokenize(text)]\n",
    "    formatted_sentences = [preprocess_sentences(original_sentence) for original_sentence in original_sentences]\n",
    "    similarity_matrix = calculate_similarity_matrix(formatted_sentences)\n",
    "    #print(similarity_matrix)\n",
    "\n",
    "    similarity_graph = nx.from_numpy_array(similarity_matrix)# convert from matrix to graph\n",
    "    # print(similarity_graph.nodes)\n",
    "    # print(similarity_graph.edges)\n",
    "    # We will use a famous algorithm developed by Google for ranking: \"Pagerank algorithm\"\n",
    "    #   it will calculate the relevence of each one of the node based on the incoming links \n",
    "    scores = nx.pagerank(similarity_graph)\n",
    "    #print(scores) # \n",
    "    # {0: 0.1673227400426021, 1: 0.1455558879715914, 2: 0.1275338306533556, 3: 0.10880185703391371, 4: 0.12904008009949403, 5: 0.08959232615044063, 6: 0.020979020979020983, 7: 0.21117425706958176}\n",
    "    # As we can see node number 0 or sentence number 0 has this score:  0.1673227400426021\n",
    "    order_scores = sorted(((scores[i], score) for i, score in enumerate(original_sentences)), reverse=True)\n",
    "    #print(order_scores)#\n",
    "    # as we can see first sentence is the most frequent with most score based on the PageRank Algorithm\n",
    "    \n",
    "    best_sentences = []\n",
    "    for sentence in range(number_of_sentences):\n",
    "        best_sentences.append(order_scores[sentence][1])\n",
    "    return original_sentences, best_sentences, order_scores\n"
   ]
  },
  {
   "cell_type": "code",
   "execution_count": 14,
   "metadata": {},
   "outputs": [],
   "source": [
    "original_sentences, best_sentences, order_scores = summrize(original_text, 3)\n",
    "# [(0, 1), (0, 3), (0, 7), (1, 2), (1, 4), (1, 7), (2, 4), (2, 5), (3, 7), (4, 7), (5, 7)]\n",
    "# first group means: first sentence is related to second sentence\n",
    "#         \n"
   ]
  },
  {
   "cell_type": "code",
   "execution_count": 15,
   "metadata": {},
   "outputs": [
    {
     "data": {
      "text/plain": [
       "['Samurai were the hereditary military nobility and officer caste of medieval and early-modern Japan from the late 12th century to their abolition in 1876.',\n",
       " 'They were the well-paid retainers of the daimyo (the great feudal landholders).',\n",
       " 'They had high prestige and special privileges such as wearing two swords.',\n",
       " 'They cultivated the bushido codes of martial virtues, indifference to pain, and unflinching loyalty, engaging in many local battles.',\n",
       " 'Though they had predecessors in earlier military and administrative officers, the samurai truly emerged during the Kamakura shogunate, ruling from c.1185–1333.',\n",
       " 'They became the ruling political class, with significant power but also significant responsibility.',\n",
       " 'During the 13th century, the samurai proved themselves as adept warriors against the invading Mongols.',\n",
       " 'During the peaceful Edo era (1603 to 1868), they became the stewards and chamberlains of the daimyo estates, gaining managerial experience and education.',\n",
       " 'In the 1870s samurai families comprised 5% of the population.',\n",
       " 'As modern militaries emerged in the 19th century, the Samurai were rendered increasingly obsolete as very expensive to maintain compared to the average conscript soldier.',\n",
       " 'The Meiji Restoration ended their feudal roles, and they moved into professional and entrepreneurial roles.',\n",
       " 'Their memory and weaponry remain prominent in Japanese popular culture.']"
      ]
     },
     "execution_count": 15,
     "metadata": {},
     "output_type": "execute_result"
    }
   ],
   "source": [
    "original_sentences"
   ]
  },
  {
   "cell_type": "code",
   "execution_count": 16,
   "metadata": {},
   "outputs": [
    {
     "data": {
      "text/plain": [
       "['Though they had predecessors in earlier military and administrative officers, the samurai truly emerged during the Kamakura shogunate, ruling from c.1185–1333.',\n",
       " 'During the 13th century, the samurai proved themselves as adept warriors against the invading Mongols.',\n",
       " 'Samurai were the hereditary military nobility and officer caste of medieval and early-modern Japan from the late 12th century to their abolition in 1876.']"
      ]
     },
     "execution_count": 16,
     "metadata": {},
     "output_type": "execute_result"
    }
   ],
   "source": [
    "best_sentences # top 3"
   ]
  },
  {
   "cell_type": "code",
   "execution_count": 17,
   "metadata": {},
   "outputs": [
    {
     "data": {
      "text/plain": [
       "[(0.1343937220350119,\n",
       "  'Though they had predecessors in earlier military and administrative officers, the samurai truly emerged during the Kamakura shogunate, ruling from c.1185–1333.'),\n",
       " (0.12808673736942616,\n",
       "  'During the 13th century, the samurai proved themselves as adept warriors against the invading Mongols.'),\n",
       " (0.12307658496828366,\n",
       "  'Samurai were the hereditary military nobility and officer caste of medieval and early-modern Japan from the late 12th century to their abolition in 1876.'),\n",
       " (0.12021448707385485,\n",
       "  'As modern militaries emerged in the 19th century, the Samurai were rendered increasingly obsolete as very expensive to maintain compared to the average conscript soldier.'),\n",
       " (0.11941767194159132,\n",
       "  'They were the well-paid retainers of the daimyo (the great feudal landholders).'),\n",
       " (0.10198262206031346,\n",
       "  'In the 1870s samurai families comprised 5% of the population.'),\n",
       " (0.09063618092062971,\n",
       "  'During the peaceful Edo era (1603 to 1868), they became the stewards and chamberlains of the daimyo estates, gaining managerial experience and education.'),\n",
       " (0.06968041656765145,\n",
       "  'The Meiji Restoration ended their feudal roles, and they moved into professional and entrepreneurial roles.'),\n",
       " (0.06489252944418993,\n",
       "  'They became the ruling political class, with significant power but also significant responsibility.'),\n",
       " (0.015873015873015876,\n",
       "  'They had high prestige and special privileges such as wearing two swords.'),\n",
       " (0.015873015873015876,\n",
       "  'They cultivated the bushido codes of martial virtues, indifference to pain, and unflinching loyalty, engaging in many local battles.'),\n",
       " (0.015873015873015876,\n",
       "  'Their memory and weaponry remain prominent in Japanese popular culture.')]"
      ]
     },
     "execution_count": 17,
     "metadata": {},
     "output_type": "execute_result"
    }
   ],
   "source": [
    "order_scores"
   ]
  },
  {
   "cell_type": "code",
   "execution_count": 18,
   "metadata": {},
   "outputs": [],
   "source": [
    "# Visualize the Final Output\n",
    "\n",
    "from IPython.core.display import HTML\n",
    "def visualize(title, sentence_list, best_sentences):\n",
    "    text = ''\n",
    "\n",
    "    display(HTML(f'<h1>Summary - {title}</h1>'))\n",
    "    for sentence in sentence_list:\n",
    "        if sentence in best_sentences:\n",
    "            text += ' ' + str(sentence).replace(sentence, f\"<mark>{sentence}</mark>\")\n",
    "        else:\n",
    "            text += ' ' + sentence\n",
    "    display(HTML(f\"\"\" {text} \"\"\"))"
   ]
  },
  {
   "cell_type": "code",
   "execution_count": 19,
   "metadata": {},
   "outputs": [
    {
     "data": {
      "text/html": [
       "<h1>Summary - Samurai</h1>"
      ],
      "text/plain": [
       "<IPython.core.display.HTML object>"
      ]
     },
     "metadata": {},
     "output_type": "display_data"
    },
    {
     "data": {
      "text/html": [
       "  <mark>Samurai were the hereditary military nobility and officer caste of medieval and early-modern Japan from the late 12th century to their abolition in 1876.</mark> They were the well-paid retainers of the daimyo (the great feudal landholders). They had high prestige and special privileges such as wearing two swords. They cultivated the bushido codes of martial virtues, indifference to pain, and unflinching loyalty, engaging in many local battles. <mark>Though they had predecessors in earlier military and administrative officers, the samurai truly emerged during the Kamakura shogunate, ruling from c.1185–1333.</mark> They became the ruling political class, with significant power but also significant responsibility. <mark>During the 13th century, the samurai proved themselves as adept warriors against the invading Mongols.</mark> During the peaceful Edo era (1603 to 1868), they became the stewards and chamberlains of the daimyo estates, gaining managerial experience and education. In the 1870s samurai families comprised 5% of the population. As modern militaries emerged in the 19th century, the Samurai were rendered increasingly obsolete as very expensive to maintain compared to the average conscript soldier. The Meiji Restoration ended their feudal roles, and they moved into professional and entrepreneurial roles. Their memory and weaponry remain prominent in Japanese popular culture. "
      ],
      "text/plain": [
       "<IPython.core.display.HTML object>"
      ]
     },
     "metadata": {},
     "output_type": "display_data"
    }
   ],
   "source": [
    "visualize('Samurai', original_sentences, best_sentences)"
   ]
  }
 ],
 "metadata": {
  "interpreter": {
   "hash": "63fd5069d213b44bf678585dea6b12cceca9941eaf7f819626cde1f2670de90d"
  },
  "kernelspec": {
   "display_name": "Python 3.9.6 64-bit",
   "name": "python3"
  },
  "language_info": {
   "codemirror_mode": {
    "name": "ipython",
    "version": 3
   },
   "file_extension": ".py",
   "mimetype": "text/x-python",
   "name": "python",
   "nbconvert_exporter": "python",
   "pygments_lexer": "ipython3",
   "version": "3.9.6"
  },
  "orig_nbformat": 4
 },
 "nbformat": 4,
 "nbformat_minor": 2
}
